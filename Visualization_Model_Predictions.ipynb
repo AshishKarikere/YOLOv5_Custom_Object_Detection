{
 "cells": [
  {
   "cell_type": "markdown",
   "id": "656aa5cf-c668-4162-8d57-a6d345277a05",
   "metadata": {},
   "source": [
    "# Visualization of the Model Predictions"
   ]
  },
  {
   "cell_type": "code",
   "execution_count": 2,
   "id": "f480983c-d98f-4208-82b9-f1d532f61da6",
   "metadata": {},
   "outputs": [],
   "source": [
    "import cv2\n",
    "from yolo_predictions import YOLO_Pred"
   ]
  },
  {
   "cell_type": "markdown",
   "id": "58af4c8b-9b2f-4369-9804-79ec9b2f657b",
   "metadata": {},
   "source": [
    "## Loading the Model weights into the YOLO_Pred class"
   ]
  },
  {
   "cell_type": "code",
   "execution_count": 3,
   "id": "d2b3ecbd-8351-47f5-99b4-e23a785a5fe6",
   "metadata": {},
   "outputs": [],
   "source": [
    "yolo = YOLO_Pred('./Model/weights/best.onnx', 'data.yaml')"
   ]
  },
  {
   "cell_type": "markdown",
   "id": "663f5957-c09b-4804-ad6c-9c7c919af5b7",
   "metadata": {},
   "source": [
    "## Loading the Image"
   ]
  },
  {
   "cell_type": "code",
   "execution_count": 4,
   "id": "ec9c9709-6058-4741-9aea-797c2b49e14a",
   "metadata": {},
   "outputs": [],
   "source": [
    "img = cv2.imread('./street_image.jpg')\n",
    "\n",
    "cv2.imshow('img', img)\n",
    "cv2.waitKey(0)\n",
    "cv2.destroyAllWindows()"
   ]
  },
  {
   "cell_type": "markdown",
   "id": "cb2333df-65a7-4160-babe-ebc3d3614c15",
   "metadata": {},
   "source": [
    "## Generating the Prediction"
   ]
  },
  {
   "cell_type": "code",
   "execution_count": 5,
   "id": "014a50d8-569d-4899-883a-b3c81fc49e9e",
   "metadata": {},
   "outputs": [],
   "source": [
    "img_pred = yolo.predictions(img)"
   ]
  },
  {
   "cell_type": "markdown",
   "id": "63f1197a-5897-4576-a529-2b8d1e053d13",
   "metadata": {},
   "source": [
    "## Displaying the Prediction"
   ]
  },
  {
   "cell_type": "code",
   "execution_count": 6,
   "id": "25e35711-c9f1-42cc-8b74-bb6c8afb078f",
   "metadata": {},
   "outputs": [],
   "source": [
    "cv2.imshow('prediction_image', img_pred)\n",
    "cv2.waitKey(0)\n",
    "cv2.destroyAllWindows()"
   ]
  },
  {
   "cell_type": "markdown",
   "id": "1e5bef44-713d-4f6e-9115-ab125fe0848e",
   "metadata": {},
   "source": [
    "## Loading the Video and showing Object Detection"
   ]
  },
  {
   "cell_type": "code",
   "execution_count": 4,
   "id": "1439ac63-b451-4645-8586-9afd7c2443ac",
   "metadata": {
    "collapsed": true,
    "jupyter": {
     "outputs_hidden": true
    }
   },
   "outputs": [
    {
     "ename": "KeyboardInterrupt",
     "evalue": "",
     "output_type": "error",
     "traceback": [
      "\u001b[1;31m---------------------------------------------------------------------------\u001b[0m",
      "\u001b[1;31mKeyboardInterrupt\u001b[0m                         Traceback (most recent call last)",
      "Cell \u001b[1;32mIn[4], line 10\u001b[0m\n\u001b[0;32m      7\u001b[0m     \u001b[38;5;28mprint\u001b[39m(\u001b[38;5;124m'\u001b[39m\u001b[38;5;124mUnable to read video\u001b[39m\u001b[38;5;124m'\u001b[39m)\n\u001b[0;32m      8\u001b[0m     \u001b[38;5;28;01mbreak\u001b[39;00m\n\u001b[1;32m---> 10\u001b[0m pred_image \u001b[38;5;241m=\u001b[39m \u001b[43myolo\u001b[49m\u001b[38;5;241;43m.\u001b[39;49m\u001b[43mpredictions\u001b[49m\u001b[43m(\u001b[49m\u001b[43mframe\u001b[49m\u001b[43m)\u001b[49m\n\u001b[0;32m     12\u001b[0m cv2\u001b[38;5;241m.\u001b[39mimshow(\u001b[38;5;124m'\u001b[39m\u001b[38;5;124mYOLO\u001b[39m\u001b[38;5;124m'\u001b[39m, pred_image)\n\u001b[0;32m     13\u001b[0m \u001b[38;5;28;01mif\u001b[39;00m cv2\u001b[38;5;241m.\u001b[39mwaitKey(\u001b[38;5;241m1\u001b[39m) \u001b[38;5;241m==\u001b[39m \u001b[38;5;241m27\u001b[39m:\n",
      "File \u001b[1;32m~\\OneDrive\\Desktop\\yolo_object_detection\\Notes\\2_Predictions\\yolo_predictions.py:38\u001b[0m, in \u001b[0;36mYOLO_Pred.predictions\u001b[1;34m(self, image)\u001b[0m\n\u001b[0;32m     36\u001b[0m blob \u001b[38;5;241m=\u001b[39m cv2\u001b[38;5;241m.\u001b[39mdnn\u001b[38;5;241m.\u001b[39mblobFromImage(input_image,\u001b[38;5;241m1\u001b[39m\u001b[38;5;241m/\u001b[39m\u001b[38;5;241m255\u001b[39m,(INPUT_WH_YOLO,INPUT_WH_YOLO),swapRB\u001b[38;5;241m=\u001b[39m\u001b[38;5;28;01mTrue\u001b[39;00m,crop\u001b[38;5;241m=\u001b[39m\u001b[38;5;28;01mFalse\u001b[39;00m)\n\u001b[0;32m     37\u001b[0m \u001b[38;5;28mself\u001b[39m\u001b[38;5;241m.\u001b[39myolo\u001b[38;5;241m.\u001b[39msetInput(blob)\n\u001b[1;32m---> 38\u001b[0m preds \u001b[38;5;241m=\u001b[39m \u001b[38;5;28;43mself\u001b[39;49m\u001b[38;5;241;43m.\u001b[39;49m\u001b[43myolo\u001b[49m\u001b[38;5;241;43m.\u001b[39;49m\u001b[43mforward\u001b[49m\u001b[43m(\u001b[49m\u001b[43m)\u001b[49m \u001b[38;5;66;03m# detection or prediction from YOLO\u001b[39;00m\n\u001b[0;32m     40\u001b[0m \u001b[38;5;66;03m# Non Maximum Supression\u001b[39;00m\n\u001b[0;32m     41\u001b[0m \u001b[38;5;66;03m# step-1: filter detection based on confidence (0.4) and probability score (0.25)\u001b[39;00m\n\u001b[0;32m     42\u001b[0m detections \u001b[38;5;241m=\u001b[39m preds[\u001b[38;5;241m0\u001b[39m]\n",
      "\u001b[1;31mKeyboardInterrupt\u001b[0m: "
     ]
    }
   ],
   "source": [
    "#Real Time Object Creation\n",
    "cap = cv2.VideoCapture('video.mp4')\n",
    "\n",
    "while True:\n",
    "    ret, frame = cap.read()\n",
    "    if ret == False:\n",
    "        print('Unable to read video')\n",
    "        break\n",
    "\n",
    "    pred_image = yolo.predictions(frame)\n",
    "\n",
    "    cv2.imshow('YOLO', pred_image)\n",
    "    if cv2.waitKey(1) == 27:\n",
    "        break\n",
    "\n",
    "cv2.destroyAllWindows()\n",
    "cap.release()"
   ]
  },
  {
   "cell_type": "code",
   "execution_count": null,
   "id": "5250475c-ccd4-4bef-903b-8048ec9a52d5",
   "metadata": {},
   "outputs": [],
   "source": []
  }
 ],
 "metadata": {
  "kernelspec": {
   "display_name": "Python 3 (ipykernel)",
   "language": "python",
   "name": "python3"
  },
  "language_info": {
   "codemirror_mode": {
    "name": "ipython",
    "version": 3
   },
   "file_extension": ".py",
   "mimetype": "text/x-python",
   "name": "python",
   "nbconvert_exporter": "python",
   "pygments_lexer": "ipython3",
   "version": "3.12.6"
  }
 },
 "nbformat": 4,
 "nbformat_minor": 5
}
